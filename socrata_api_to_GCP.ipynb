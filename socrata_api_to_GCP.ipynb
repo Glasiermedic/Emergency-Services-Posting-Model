{
  "nbformat": 4,
  "nbformat_minor": 0,
  "metadata": {
    "colab": {
      "name": "socrata_api_to_GCP",
      "provenance": [],
      "collapsed_sections": [],
      "authorship_tag": "ABX9TyOOFXa/GzkMpa5PqDtVsF2c",
      "include_colab_link": true
    },
    "kernelspec": {
      "name": "python3",
      "display_name": "Python 3"
    }
  },
  "cells": [
    {
      "cell_type": "markdown",
      "metadata": {
        "id": "view-in-github",
        "colab_type": "text"
      },
      "source": [
        "<a href=\"https://colab.research.google.com/github/Glasiermedic/Emergency-Services-Posting-Model/blob/master/socrata_api_to_GCP.ipynb\" target=\"_parent\"><img src=\"https://colab.research.google.com/assets/colab-badge.svg\" alt=\"Open In Colab\"/></a>"
      ]
    },
    {
      "cell_type": "code",
      "metadata": {
        "id": "1Eu-3eUuON7J",
        "colab_type": "code",
        "colab": {}
      },
      "source": [
        "# storing/updating the data using socrata API and BigQuery \n",
        "\n",
        "# TASKS\n",
        "# create google cloud side of project for secret and storage bucket\n",
        "# define the window of time to request when calling on API\n",
        "# determine need for authentication with the public dataset (future proof)\n",
        "# adapt portions of code to be more universal with socrate API ( create class)\n",
        "\n",
        "\n",
        "\n",
        "import requests\n",
        "import os\n",
        "import json\n",
        "import base64\n",
        "from datetime import date, timedelta\n",
        "from sodapy import Socrata\n",
        "from google.cloud import storage\n",
        "\n",
        "storage_client = storage.Client()\n",
        "SECRET_BUCKET = os.environ['SECRET_BUCKET']\n",
        "STORAGE_BUCKET = os.environ['STORAGE_BUCKET']\n",
        "\n",
        "def load_creds():\n",
        "    blob = storage_client.get_bucket(SECRET_BUCKET) \\\n",
        "        .get_blob('creds.json') \\\n",
        "        .download_as_string()\n",
        "\n",
        "    parsed = json.loads(blob)\n",
        "\n",
        "    apptoken = parsed['apptoken']\n",
        "    username = parsed['username']\n",
        "    password = parsed['password']\n",
        "\n",
        "    return apptoken, username, password\n",
        "\n",
        "def cincin_fire(from_when):\n",
        "   client = Socrata(\"data.cincinnati-oh.gov\", \n",
        "                  \"rTR5opir2rQWQPBAOk7rNObUI\",\n",
        "                  username= 'rolfson.data@gmail.com', \n",
        "                  password=\"Sfd97dex!5\")\n",
        "\n",
        "    # First 500,000 results, returned as JSON from API / converted to Python list of\n",
        "    # dictionaries by sodapy.\n",
        "    results = client.get(\"vnsz-a3wp\") \n",
        "    return(results) \n",
        "\n",
        "def fetch_and_write(data, context):\n",
        "    action = base64.b64decode(data['data']).decode('utf-8')\n",
        "    #window = date.today() - timedelta(1)\n",
        "    #window = str(window)\n",
        "\n",
        "    if (action == \"download!\"):\n",
        "        payload = cincin_fire(yesterday) \n",
        "        payload = '\\n'.join(json.dumps(item) for item in payload)\n",
        "\n",
        "        file_name = \"cinfire_{}.json\".format(yesterday.replace(\"-\", \"\"))\n",
        "        storage_client.get_bucket(STORAGE_BUCKET) \\\n",
        "            .blob(file_name) \\\n",
        "            .upload_from_string(payload)\n",
        "    else:\n",
        "        print(\"No instructions received.\")"
      ],
      "execution_count": null,
      "outputs": []
    },
    {
      "cell_type": "code",
      "metadata": {
        "id": "zEn9yfWQRHRC",
        "colab_type": "code",
        "colab": {}
      },
      "source": [
        ""
      ],
      "execution_count": null,
      "outputs": []
    }
  ]
}