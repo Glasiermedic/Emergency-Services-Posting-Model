{
  "nbformat": 4,
  "nbformat_minor": 0,
  "metadata": {
    "colab": {
      "name": "ERS EDA_EMS_WEATHER_.ipynb",
      "provenance": [],
      "mount_file_id": "1gGByU0pXwnbBhDuaDbfRPbxf1QhRReeu",
      "authorship_tag": "ABX9TyOhVE6hPHYMSxkuNljxkhjc",
      "include_colab_link": true
    },
    "kernelspec": {
      "name": "python3",
      "display_name": "Python 3"
    }
  },
  "cells": [
    {
      "cell_type": "markdown",
      "metadata": {
        "id": "view-in-github",
        "colab_type": "text"
      },
      "source": [
        "<a href=\"https://colab.research.google.com/github/Glasiermedic/Emergency-Services-Posting-Model/blob/master/ERS_EDA_EMS_WEATHER_.ipynb\" target=\"_parent\"><img src=\"https://colab.research.google.com/assets/colab-badge.svg\" alt=\"Open In Colab\"/></a>"
      ]
    },
    {
      "cell_type": "code",
      "metadata": {
        "id": "m24qMAIKSS-L",
        "colab_type": "code",
        "outputId": "66dfacf6-3c8e-49f8-ce8e-379821abe0cd",
        "colab": {
          "base_uri": "https://localhost:8080/",
          "height": 247
        }
      },
      "source": [
        "import numpy as np\n",
        "import pandas as pd\n",
        "import scipy\n",
        "import sklearn\n",
        "import matplotlib.pyplot as plt\n",
        "import seaborn as sns\n",
        "import pickle\n",
        "pd.set_option('display.max_rows', 1000)\n",
        "pd.set_option('display.max_columns', 50)\n",
        "import math\n",
        "from sklearn.preprocessing import MinMaxScaler\n",
        "import warnings\n",
        "warnings.simplefilter(action='ignore', category=FutureWarning)\n",
        "from IPython.display import display\n",
        "# Display preferences.\n",
        "%matplotlib inline\n",
        "pd.options.display.float_format = '{:.3f}'.format\n",
        "\n",
        "# Suppress annoying harmless error.\n",
        "warnings.filterwarnings(\n",
        "    action=\"ignore\",\n",
        "    module=\"scipy\",\n",
        "    message=\"^internal gelsd\"\n",
        ")\n",
        "import subprocess\n",
        "import sys\n",
        "\n",
        "reqs = subprocess.check_output([sys.executable,\n",
        "                                '-m', 'pip', 'freeze'])\n",
        "installed_packages = [r.decode().split('==')[0]\n",
        "                      for r in reqs.split()]\n",
        "\n",
        "print(installed_packages)\n",
        "\n",
        "if 'sodapy' in installed_packages:\n",
        "  from sodapy import Socrata\n",
        "else: \n",
        "  !pip3 install sodapy\n",
        "  from sodapy import Socrata\n",
        "\n",
        "import pydotplus\n",
        "from sklearn import tree\n",
        "from sklearn import preprocessing\n",
        "import datetime\n",
        "%matplotlib inline\n",
        "sns.set_style('white')\n",
        "\n",
        "from google.colab import files\n",
        "\n",
        "random_state = 1"
      ],
      "execution_count": 0,
      "outputs": [
        {
          "output_type": "stream",
          "text": [
            "/usr/local/lib/python3.6/dist-packages/statsmodels/tools/_testing.py:19: FutureWarning: pandas.util.testing is deprecated. Use the functions in the public API at pandas.testing instead.\n",
            "  import pandas.util.testing as tm\n"
          ],
          "name": "stderr"
        },
        {
          "output_type": "stream",
          "text": [
            "['absl-py', 'alabaster', 'albumentations', 'altair', 'asgiref', 'astor', 'astropy', 'astunparse', 'atari-py', 'atomicwrites', 'attrs', 'audioread', 'autograd', 'Babel', 'backcall', 'beautifulsoup4', 'bleach', 'blis', 'bokeh', 'boto', 'boto3', 'botocore', 'Bottleneck', 'branca', 'bs4', 'CacheControl', 'cachetools', 'catalogue', 'certifi', 'cffi', 'chainer', 'chardet', 'click', 'cloudpickle', 'cmake', 'cmdstanpy', 'colorlover', 'community', 'contextlib2', 'convertdate', 'coverage', 'coveralls', 'crcmod', 'cufflinks', 'cvxopt', 'cvxpy', 'cycler', 'cymem', 'Cython', 'daft', 'dask', 'dataclasses', 'datascience', 'decorator', 'defusedxml', 'descartes', 'dill', 'distributed', 'Django', 'dlib', 'docopt', 'docutils', 'dopamine-rl', 'earthengine-api', 'easydict', 'ecos', 'editdistance', 'en-core-web-sm', 'entrypoints', 'ephem', 'et-xmlfile', 'fa2', 'fancyimpute', 'fastai', 'fastdtw', 'fastprogress', 'fastrlock', 'fbprophet', 'feather-format', 'featuretools', 'filelock', 'firebase-admin', 'fix-yahoo-finance', 'Flask', 'folium', 'fsspec', 'future', 'gast', 'GDAL', 'gdown', 'gensim', 'geographiclib', 'geopy', 'gin-config', 'glob2', 'google', 'google-api-core', 'google-api-python-client', 'google-auth', 'google-auth-httplib2', 'google-auth-oauthlib', 'google-cloud-bigquery', 'google-cloud-core', 'google-cloud-datastore', 'google-cloud-firestore', 'google-cloud-language', 'google-cloud-storage', 'google-cloud-translate', 'google-colab', 'google-pasta', 'google-resumable-media', 'googleapis-common-protos', 'googledrivedownloader', 'graphviz', 'grpcio', 'gspread', 'gspread-dataframe', 'gym', 'h5py', 'HeapDict', 'holidays', 'html5lib', 'httpimport', 'httplib2', 'httplib2shim', 'humanize', 'hyperopt', 'ideep4py', 'idna', 'image', 'imageio', 'imagesize', 'imbalanced-learn', 'imblearn', 'imgaug', 'importlib-metadata', 'imutils', 'inflect', 'intel-openmp', 'intervaltree', 'ipykernel', 'ipython', 'ipython-genutils', 'ipython-sql', 'ipywidgets', 'itsdangerous', 'jax', 'jaxlib', 'jdcal', 'jedi', 'jieba', 'Jinja2', 'jmespath', 'joblib', 'jpeg4py', 'jsonschema', 'jupyter', 'jupyter-client', 'jupyter-console', 'jupyter-core', 'kaggle', 'kapre', 'Keras', 'Keras-Applications', 'Keras-Preprocessing', 'keras-vis', 'kiwisolver', 'knnimpute', 'librosa', 'lightgbm', 'llvmlite', 'lmdb', 'lucid', 'LunarCalendar', 'lxml', 'Markdown', 'MarkupSafe', 'matplotlib', 'matplotlib-venn', 'missingno', 'mistune', 'mizani', 'mkl', 'mlxtend', 'more-itertools', 'moviepy', 'mpmath', 'msgpack', 'multiprocess', 'multitasking', 'murmurhash', 'music21', 'natsort', 'nbconvert', 'nbformat', 'networkx', 'nibabel', 'nltk', 'notebook', 'np-utils', 'numba', 'numexpr', 'numpy', 'nvidia-ml-py3', 'oauth2client', 'oauthlib', 'okgrade', 'opencv-contrib-python', 'opencv-python', 'openpyxl', 'opt-einsum', 'osqp', 'packaging', 'palettable', 'pandas', 'pandas-datareader', 'pandas-gbq', 'pandas-profiling', 'pandocfilters', 'parso', 'pathlib', 'patsy', 'pexpect', 'pickleshare', 'Pillow', 'pip-tools', 'plac', 'plotly', 'plotnine', 'pluggy', 'portpicker', 'prefetch-generator', 'preshed', 'prettytable', 'progressbar2', 'prometheus-client', 'promise', 'prompt-toolkit', 'protobuf', 'psutil', 'psycopg2', 'ptvsd', 'ptyprocess', 'py', 'pyarrow', 'pyasn1', 'pyasn1-modules', 'pycocotools', 'pycparser', 'pydata-google-auth', 'pydot', 'pydot-ng', 'pydotplus', 'PyDrive', 'pyemd', 'pyglet', 'Pygments', 'pygobject', 'pymc3', 'PyMeeus', 'pymongo', 'pymystem3', 'PyOpenGL', 'pyparsing', 'pyrsistent', 'pysndfile', 'PySocks', 'pystan', 'pytest', 'python-apt', 'python-chess', 'python-dateutil', 'python-louvain', 'python-slugify', 'python-utils', 'pytz', 'PyWavelets', 'PyYAML', 'pyzmq', 'qtconsole', 'QtPy', 'regex', 'requests', 'requests-oauthlib', 'resampy', 'retrying', 'rpy2', 'rsa', 's3fs', 's3transfer', 'scikit-image', 'scikit-learn', 'scipy', 'screen-resolution-extra', 'scs', 'seaborn', 'Send2Trash', 'setuptools-git', 'Shapely', 'simplegeneric', 'six', 'sklearn', 'sklearn-pandas', 'smart-open', 'snowballstemmer', 'sortedcontainers', 'spacy', 'Sphinx', 'sphinxcontrib-websupport', 'SQLAlchemy', 'sqlparse', 'srsly', 'statsmodels', 'sympy', 'tables', 'tabulate', 'tbb', 'tblib', 'tensorboard', 'tensorboard-plugin-wit', 'tensorboardcolab', 'tensorflow', 'tensorflow-addons', 'tensorflow-datasets', 'tensorflow-estimator', 'tensorflow-gcs-config', 'tensorflow-hub', 'tensorflow-metadata', 'tensorflow-privacy', 'tensorflow-probability', 'termcolor', 'terminado', 'testpath', 'text-unidecode', 'textblob', 'textgenrnn', 'Theano', 'thinc', 'toolz', 'torch', 'torchsummary', 'torchtext', 'torchvision', 'tornado', 'tqdm', 'traitlets', 'tweepy', 'typeguard', 'typing', 'typing-extensions', 'tzlocal', 'umap-learn', 'uritemplate', 'urllib3', 'vega-datasets', 'wasabi', 'wcwidth', 'webencodings', 'Werkzeug', 'widgetsnbextension', 'wordcloud', 'wrapt', 'xarray', 'xgboost', 'xkit', 'xlrd', 'xlwt', 'yellowbrick', 'zict', 'zipp']\n",
            "Collecting sodapy\n",
            "  Downloading https://files.pythonhosted.org/packages/9e/74/95fb7d45bbe7f1de43caac45d7dd4807ef1e15881564a00eef489a3bb5c6/sodapy-2.1.0-py2.py3-none-any.whl\n",
            "Requirement already satisfied: requests>=2.20.0 in /usr/local/lib/python3.6/dist-packages (from sodapy) (2.23.0)\n",
            "Requirement already satisfied: certifi>=2017.4.17 in /usr/local/lib/python3.6/dist-packages (from requests>=2.20.0->sodapy) (2020.4.5.1)\n",
            "Requirement already satisfied: urllib3!=1.25.0,!=1.25.1,<1.26,>=1.21.1 in /usr/local/lib/python3.6/dist-packages (from requests>=2.20.0->sodapy) (1.24.3)\n",
            "Requirement already satisfied: chardet<4,>=3.0.2 in /usr/local/lib/python3.6/dist-packages (from requests>=2.20.0->sodapy) (3.0.4)\n",
            "Requirement already satisfied: idna<3,>=2.5 in /usr/local/lib/python3.6/dist-packages (from requests>=2.20.0->sodapy) (2.9)\n",
            "Installing collected packages: sodapy\n",
            "Successfully installed sodapy-2.1.0\n"
          ],
          "name": "stdout"
        }
      ]
    },
    {
      "cell_type": "code",
      "metadata": {
        "id": "kuOQfFYWRsOv",
        "colab_type": "code",
        "outputId": "72a2ef82-22e2-4886-b5af-d69ac75dd0d0",
        "colab": {
          "base_uri": "https://localhost:8080/",
          "height": 72
        }
      },
      "source": [
        "cin_weather = pd.read_csv('https://raw.githubusercontent.com/Glasiermedic/Emergency-Services-Posting-Model/master/cincinnatti_weather_2015-2020.csv')"
      ],
      "execution_count": 0,
      "outputs": [
        {
          "output_type": "stream",
          "text": [
            "/usr/local/lib/python3.6/dist-packages/IPython/core/interactiveshell.py:2718: DtypeWarning: Columns (30,31,41,42,43,48,49,51,53,69,71,88) have mixed types.Specify dtype option on import or set low_memory=False.\n",
            "  interactivity=interactivity, compiler=compiler, result=result)\n"
          ],
          "name": "stderr"
        }
      ]
    },
    {
      "cell_type": "code",
      "metadata": {
        "id": "lCQkIx4zTAv6",
        "colab_type": "code",
        "outputId": "51b596f3-4969-4278-b884-584defacba22",
        "colab": {
          "base_uri": "https://localhost:8080/",
          "height": 104
        }
      },
      "source": [
        "cin_weather.info()\n"
      ],
      "execution_count": 0,
      "outputs": [
        {
          "output_type": "stream",
          "text": [
            "<class 'pandas.core.frame.DataFrame'>\n",
            "RangeIndex: 66925 entries, 0 to 66924\n",
            "Columns: 124 entries, STATION to WindEquipmentChangeDate\n",
            "dtypes: float64(85), int64(3), object(36)\n",
            "memory usage: 63.3+ MB\n"
          ],
          "name": "stdout"
        }
      ]
    },
    {
      "cell_type": "code",
      "metadata": {
        "id": "_mgH1UEETGxM",
        "colab_type": "code",
        "colab": {}
      },
      "source": [
        ""
      ],
      "execution_count": 0,
      "outputs": []
    }
  ]
}